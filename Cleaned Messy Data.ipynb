{
 "cells": [
  {
   "cell_type": "markdown",
   "metadata": {},
   "source": [
    "# This project aims to go through messy data, and how to make it clean "
   ]
  },
  {
   "cell_type": "code",
   "execution_count": 2,
   "metadata": {},
   "outputs": [],
   "source": [
    "# Importing necessary Libraries \n",
    "import numpy as np\n",
    "import pandas as pd\n",
    "import nltk\n",
    "from nltk.corpus import stopwords\n",
    "from nltk.stem import WordNetLemmatizer\n",
    "\n",
    "import warnings\n",
    "warnings.filterwarnings('ignore')"
   ]
  },
  {
   "cell_type": "code",
   "execution_count": 3,
   "metadata": {},
   "outputs": [],
   "source": [
    "# Importing survey data\n",
    "Survey_df = pd.read_csv('Ask A Manager Salary Survey 2021 (Form Responses).csv')"
   ]
  },
  {
   "cell_type": "code",
   "execution_count": 4,
   "metadata": {},
   "outputs": [
    {
     "data": {
      "text/html": [
       "<div>\n",
       "<style scoped>\n",
       "    .dataframe tbody tr th:only-of-type {\n",
       "        vertical-align: middle;\n",
       "    }\n",
       "\n",
       "    .dataframe tbody tr th {\n",
       "        vertical-align: top;\n",
       "    }\n",
       "\n",
       "    .dataframe thead th {\n",
       "        text-align: right;\n",
       "    }\n",
       "</style>\n",
       "<table border=\"1\" class=\"dataframe\">\n",
       "  <thead>\n",
       "    <tr style=\"text-align: right;\">\n",
       "      <th></th>\n",
       "      <th>Timestamp</th>\n",
       "      <th>How old are you?</th>\n",
       "      <th>What industry do you work in?</th>\n",
       "      <th>Job title</th>\n",
       "      <th>If your job title needs additional context, please clarify here:</th>\n",
       "      <th>What is your annual salary? (You'll indicate the currency in a later question. If you are part-time or hourly, please enter an annualized equivalent -- what you would earn if you worked the job 40 hours a week, 52 weeks a year.)</th>\n",
       "      <th>How much additional monetary compensation do you get, if any (for example, bonuses or overtime in an average year)? Please only include monetary compensation here, not the value of benefits.</th>\n",
       "      <th>Please indicate the currency</th>\n",
       "      <th>If \"Other,\" please indicate the currency here:</th>\n",
       "      <th>If your income needs additional context, please provide it here:</th>\n",
       "      <th>What country do you work in?</th>\n",
       "      <th>If you're in the U.S., what state do you work in?</th>\n",
       "      <th>What city do you work in?</th>\n",
       "      <th>How many years of professional work experience do you have overall?</th>\n",
       "      <th>How many years of professional work experience do you have in your field?</th>\n",
       "      <th>What is your highest level of education completed?</th>\n",
       "      <th>What is your gender?</th>\n",
       "      <th>What is your race? (Choose all that apply.)</th>\n",
       "    </tr>\n",
       "  </thead>\n",
       "  <tbody>\n",
       "    <tr>\n",
       "      <th>0</th>\n",
       "      <td>4/27/2021 11:02:10</td>\n",
       "      <td>25-34</td>\n",
       "      <td>Education (Higher Education)</td>\n",
       "      <td>Research and Instruction Librarian</td>\n",
       "      <td>NaN</td>\n",
       "      <td>55,000</td>\n",
       "      <td>0.0</td>\n",
       "      <td>USD</td>\n",
       "      <td>NaN</td>\n",
       "      <td>NaN</td>\n",
       "      <td>United States</td>\n",
       "      <td>Massachusetts</td>\n",
       "      <td>Boston</td>\n",
       "      <td>5-7 years</td>\n",
       "      <td>5-7 years</td>\n",
       "      <td>Master's degree</td>\n",
       "      <td>Woman</td>\n",
       "      <td>White</td>\n",
       "    </tr>\n",
       "    <tr>\n",
       "      <th>1</th>\n",
       "      <td>4/27/2021 11:02:22</td>\n",
       "      <td>25-34</td>\n",
       "      <td>Computing or Tech</td>\n",
       "      <td>Change &amp; Internal Communications Manager</td>\n",
       "      <td>NaN</td>\n",
       "      <td>54,600</td>\n",
       "      <td>4000.0</td>\n",
       "      <td>GBP</td>\n",
       "      <td>NaN</td>\n",
       "      <td>NaN</td>\n",
       "      <td>United Kingdom</td>\n",
       "      <td>NaN</td>\n",
       "      <td>Cambridge</td>\n",
       "      <td>8 - 10 years</td>\n",
       "      <td>5-7 years</td>\n",
       "      <td>College degree</td>\n",
       "      <td>Non-binary</td>\n",
       "      <td>White</td>\n",
       "    </tr>\n",
       "    <tr>\n",
       "      <th>2</th>\n",
       "      <td>4/27/2021 11:02:38</td>\n",
       "      <td>25-34</td>\n",
       "      <td>Accounting, Banking &amp; Finance</td>\n",
       "      <td>Marketing Specialist</td>\n",
       "      <td>NaN</td>\n",
       "      <td>34,000</td>\n",
       "      <td>NaN</td>\n",
       "      <td>USD</td>\n",
       "      <td>NaN</td>\n",
       "      <td>NaN</td>\n",
       "      <td>US</td>\n",
       "      <td>Tennessee</td>\n",
       "      <td>Chattanooga</td>\n",
       "      <td>2 - 4 years</td>\n",
       "      <td>2 - 4 years</td>\n",
       "      <td>College degree</td>\n",
       "      <td>Woman</td>\n",
       "      <td>White</td>\n",
       "    </tr>\n",
       "    <tr>\n",
       "      <th>3</th>\n",
       "      <td>4/27/2021 11:02:41</td>\n",
       "      <td>25-34</td>\n",
       "      <td>Nonprofits</td>\n",
       "      <td>Program Manager</td>\n",
       "      <td>NaN</td>\n",
       "      <td>62,000</td>\n",
       "      <td>3000.0</td>\n",
       "      <td>USD</td>\n",
       "      <td>NaN</td>\n",
       "      <td>NaN</td>\n",
       "      <td>USA</td>\n",
       "      <td>Wisconsin</td>\n",
       "      <td>Milwaukee</td>\n",
       "      <td>8 - 10 years</td>\n",
       "      <td>5-7 years</td>\n",
       "      <td>College degree</td>\n",
       "      <td>Woman</td>\n",
       "      <td>White</td>\n",
       "    </tr>\n",
       "    <tr>\n",
       "      <th>4</th>\n",
       "      <td>4/27/2021 11:02:42</td>\n",
       "      <td>25-34</td>\n",
       "      <td>Accounting, Banking &amp; Finance</td>\n",
       "      <td>Accounting Manager</td>\n",
       "      <td>NaN</td>\n",
       "      <td>60,000</td>\n",
       "      <td>7000.0</td>\n",
       "      <td>USD</td>\n",
       "      <td>NaN</td>\n",
       "      <td>NaN</td>\n",
       "      <td>US</td>\n",
       "      <td>South Carolina</td>\n",
       "      <td>Greenville</td>\n",
       "      <td>8 - 10 years</td>\n",
       "      <td>5-7 years</td>\n",
       "      <td>College degree</td>\n",
       "      <td>Woman</td>\n",
       "      <td>White</td>\n",
       "    </tr>\n",
       "  </tbody>\n",
       "</table>\n",
       "</div>"
      ],
      "text/plain": [
       "            Timestamp How old are you?  What industry do you work in?   \n",
       "0  4/27/2021 11:02:10            25-34   Education (Higher Education)  \\\n",
       "1  4/27/2021 11:02:22            25-34              Computing or Tech   \n",
       "2  4/27/2021 11:02:38            25-34  Accounting, Banking & Finance   \n",
       "3  4/27/2021 11:02:41            25-34                     Nonprofits   \n",
       "4  4/27/2021 11:02:42            25-34  Accounting, Banking & Finance   \n",
       "\n",
       "                                  Job title   \n",
       "0        Research and Instruction Librarian  \\\n",
       "1  Change & Internal Communications Manager   \n",
       "2                      Marketing Specialist   \n",
       "3                           Program Manager   \n",
       "4                        Accounting Manager   \n",
       "\n",
       "  If your job title needs additional context, please clarify here:   \n",
       "0                                                NaN                \\\n",
       "1                                                NaN                 \n",
       "2                                                NaN                 \n",
       "3                                                NaN                 \n",
       "4                                                NaN                 \n",
       "\n",
       "  What is your annual salary? (You'll indicate the currency in a later question. If you are part-time or hourly, please enter an annualized equivalent -- what you would earn if you worked the job 40 hours a week, 52 weeks a year.)   \n",
       "0                                             55,000                                                                                                                                                                                    \\\n",
       "1                                             54,600                                                                                                                                                                                     \n",
       "2                                             34,000                                                                                                                                                                                     \n",
       "3                                             62,000                                                                                                                                                                                     \n",
       "4                                             60,000                                                                                                                                                                                     \n",
       "\n",
       "   How much additional monetary compensation do you get, if any (for example, bonuses or overtime in an average year)? Please only include monetary compensation here, not the value of benefits.   \n",
       "0                                                0.0                                                                                                                                               \\\n",
       "1                                             4000.0                                                                                                                                                \n",
       "2                                                NaN                                                                                                                                                \n",
       "3                                             3000.0                                                                                                                                                \n",
       "4                                             7000.0                                                                                                                                                \n",
       "\n",
       "  Please indicate the currency   \n",
       "0                          USD  \\\n",
       "1                          GBP   \n",
       "2                          USD   \n",
       "3                          USD   \n",
       "4                          USD   \n",
       "\n",
       "  If \"Other,\" please indicate the currency here:    \n",
       "0                                             NaN  \\\n",
       "1                                             NaN   \n",
       "2                                             NaN   \n",
       "3                                             NaN   \n",
       "4                                             NaN   \n",
       "\n",
       "  If your income needs additional context, please provide it here:   \n",
       "0                                                NaN                \\\n",
       "1                                                NaN                 \n",
       "2                                                NaN                 \n",
       "3                                                NaN                 \n",
       "4                                                NaN                 \n",
       "\n",
       "  What country do you work in?   \n",
       "0                United States  \\\n",
       "1               United Kingdom   \n",
       "2                           US   \n",
       "3                          USA   \n",
       "4                           US   \n",
       "\n",
       "  If you're in the U.S., what state do you work in? What city do you work in?   \n",
       "0                                     Massachusetts                    Boston  \\\n",
       "1                                               NaN                 Cambridge   \n",
       "2                                         Tennessee               Chattanooga   \n",
       "3                                         Wisconsin                 Milwaukee   \n",
       "4                                    South Carolina                Greenville   \n",
       "\n",
       "  How many years of professional work experience do you have overall?   \n",
       "0                                          5-7 years                   \\\n",
       "1                                       8 - 10 years                    \n",
       "2                                        2 - 4 years                    \n",
       "3                                       8 - 10 years                    \n",
       "4                                       8 - 10 years                    \n",
       "\n",
       "  How many years of professional work experience do you have in your field?   \n",
       "0                                          5-7 years                         \\\n",
       "1                                          5-7 years                          \n",
       "2                                        2 - 4 years                          \n",
       "3                                          5-7 years                          \n",
       "4                                          5-7 years                          \n",
       "\n",
       "  What is your highest level of education completed? What is your gender?   \n",
       "0                                    Master's degree                Woman  \\\n",
       "1                                     College degree           Non-binary   \n",
       "2                                     College degree                Woman   \n",
       "3                                     College degree                Woman   \n",
       "4                                     College degree                Woman   \n",
       "\n",
       "  What is your race? (Choose all that apply.)  \n",
       "0                                       White  \n",
       "1                                       White  \n",
       "2                                       White  \n",
       "3                                       White  \n",
       "4                                       White  "
      ]
     },
     "execution_count": 4,
     "metadata": {},
     "output_type": "execute_result"
    }
   ],
   "source": [
    "# Overview of the data (first 5 rows)\n",
    "Survey_df.head()"
   ]
  },
  {
   "cell_type": "markdown",
   "metadata": {},
   "source": [
    "<hr style=\"border:1px solid gray\"></hr>"
   ]
  },
  {
   "cell_type": "markdown",
   "metadata": {},
   "source": [
    "### First things first, relabeling attributes (Survey Questions)\n",
    ">**timestamp:** Timestamp\n",
    ">\n",
    ">**age:** How old are you?\n",
    ">\n",
    ">**industry:** What industry do you work in?\n",
    ">\n",
    ">**job_title:** Job title\n",
    ">\n",
    ">**jt_add_context:** If your job title needs additional context, please clarify here:\n",
    ">\n",
    ">**annual_salary:** What is your annual salary? (You'll indicate the currency in a later question. If you are part-time or hourly, please enter an annualized equivalent -- what you would earn if you worked the job 40 hours a week, 52 weeks a year.) \n",
    ">\n",
    ">**incentives:** How much additional monetary compensation do you get, if any (for example, bonuses or overtime in an average year)? Please only include monetary compensation here, not the value of benefits.\n",
    ">\n",
    ">**currency:** Please indicate the currency\n",
    ">\n",
    ">**other_currency:** If \"Other,\" please indicate the currency here: \n",
    ">\n",
    ">**income_add_context:** If your income needs additional context, please provide it here:\n",
    ">\n",
    ">**workin_country:** What country do you work in?\n",
    ">\n",
    ">**ifUS_state:** If you're in the U.S., what state do you work in?\n",
    ">\n",
    ">**workin_city:** What city do you work in?\n",
    ">\n",
    ">**overall_workexp:** How many years of professional work experience do you have overall?\n",
    ">\n",
    ">**field_workexp:** How many years of professional work experience do you have in your field?\n",
    ">\n",
    ">**highest_education:** What is your highest level of education completed?\n",
    ">\n",
    ">**gender:** What is your gender?\n",
    ">\n",
    ">**race:** What is your race? (Choose all that apply.)"
   ]
  },
  {
   "cell_type": "code",
   "execution_count": 5,
   "metadata": {},
   "outputs": [],
   "source": [
    "# Defining a list with new attributes' names\n",
    "columns = ['timestamp', 'age', 'industry', 'job_title', 'jt_add_context', 'annual_salary', 'incentives',\n",
    "           'currency', 'other_currency', 'income_add_context', 'workin_country', 'ifUS_state', 'workin_city',\n",
    "           'overall_workexp', 'field_workexp', 'highest_education', 'gender', 'race']"
   ]
  },
  {
   "cell_type": "code",
   "execution_count": 6,
   "metadata": {},
   "outputs": [],
   "source": [
    "# Replacing old, questionnaire, attributes with new ones\n",
    "Survey_df.columns = columns"
   ]
  },
  {
   "cell_type": "markdown",
   "metadata": {},
   "source": [
    "<hr style=\"border:1px solid gray\"></hr>"
   ]
  },
  {
   "cell_type": "markdown",
   "metadata": {},
   "source": [
    "### Now, lets discover our survey answers"
   ]
  },
  {
   "cell_type": "code",
   "execution_count": 7,
   "metadata": {},
   "outputs": [
    {
     "data": {
      "text/plain": [
       "(27844, 18)"
      ]
     },
     "execution_count": 7,
     "metadata": {},
     "output_type": "execute_result"
    }
   ],
   "source": [
    "# Shape of our data (records, attributes)\n",
    "Survey_df.shape"
   ]
  },
  {
   "cell_type": "code",
   "execution_count": 8,
   "metadata": {},
   "outputs": [
    {
     "data": {
      "text/html": [
       "<div>\n",
       "<style scoped>\n",
       "    .dataframe tbody tr th:only-of-type {\n",
       "        vertical-align: middle;\n",
       "    }\n",
       "\n",
       "    .dataframe tbody tr th {\n",
       "        vertical-align: top;\n",
       "    }\n",
       "\n",
       "    .dataframe thead th {\n",
       "        text-align: right;\n",
       "    }\n",
       "</style>\n",
       "<table border=\"1\" class=\"dataframe\">\n",
       "  <thead>\n",
       "    <tr style=\"text-align: right;\">\n",
       "      <th></th>\n",
       "      <th>timestamp</th>\n",
       "      <th>age</th>\n",
       "      <th>industry</th>\n",
       "      <th>job_title</th>\n",
       "      <th>jt_add_context</th>\n",
       "      <th>annual_salary</th>\n",
       "      <th>incentives</th>\n",
       "      <th>currency</th>\n",
       "      <th>other_currency</th>\n",
       "      <th>income_add_context</th>\n",
       "      <th>workin_country</th>\n",
       "      <th>ifUS_state</th>\n",
       "      <th>workin_city</th>\n",
       "      <th>overall_workexp</th>\n",
       "      <th>field_workexp</th>\n",
       "      <th>highest_education</th>\n",
       "      <th>gender</th>\n",
       "      <th>race</th>\n",
       "    </tr>\n",
       "  </thead>\n",
       "  <tbody>\n",
       "    <tr>\n",
       "      <th>0</th>\n",
       "      <td>4/27/2021 11:02:10</td>\n",
       "      <td>25-34</td>\n",
       "      <td>Education (Higher Education)</td>\n",
       "      <td>Research and Instruction Librarian</td>\n",
       "      <td>NaN</td>\n",
       "      <td>55,000</td>\n",
       "      <td>0.0</td>\n",
       "      <td>USD</td>\n",
       "      <td>NaN</td>\n",
       "      <td>NaN</td>\n",
       "      <td>United States</td>\n",
       "      <td>Massachusetts</td>\n",
       "      <td>Boston</td>\n",
       "      <td>5-7 years</td>\n",
       "      <td>5-7 years</td>\n",
       "      <td>Master's degree</td>\n",
       "      <td>Woman</td>\n",
       "      <td>White</td>\n",
       "    </tr>\n",
       "    <tr>\n",
       "      <th>1</th>\n",
       "      <td>4/27/2021 11:02:22</td>\n",
       "      <td>25-34</td>\n",
       "      <td>Computing or Tech</td>\n",
       "      <td>Change &amp; Internal Communications Manager</td>\n",
       "      <td>NaN</td>\n",
       "      <td>54,600</td>\n",
       "      <td>4000.0</td>\n",
       "      <td>GBP</td>\n",
       "      <td>NaN</td>\n",
       "      <td>NaN</td>\n",
       "      <td>United Kingdom</td>\n",
       "      <td>NaN</td>\n",
       "      <td>Cambridge</td>\n",
       "      <td>8 - 10 years</td>\n",
       "      <td>5-7 years</td>\n",
       "      <td>College degree</td>\n",
       "      <td>Non-binary</td>\n",
       "      <td>White</td>\n",
       "    </tr>\n",
       "    <tr>\n",
       "      <th>2</th>\n",
       "      <td>4/27/2021 11:02:38</td>\n",
       "      <td>25-34</td>\n",
       "      <td>Accounting, Banking &amp; Finance</td>\n",
       "      <td>Marketing Specialist</td>\n",
       "      <td>NaN</td>\n",
       "      <td>34,000</td>\n",
       "      <td>NaN</td>\n",
       "      <td>USD</td>\n",
       "      <td>NaN</td>\n",
       "      <td>NaN</td>\n",
       "      <td>US</td>\n",
       "      <td>Tennessee</td>\n",
       "      <td>Chattanooga</td>\n",
       "      <td>2 - 4 years</td>\n",
       "      <td>2 - 4 years</td>\n",
       "      <td>College degree</td>\n",
       "      <td>Woman</td>\n",
       "      <td>White</td>\n",
       "    </tr>\n",
       "    <tr>\n",
       "      <th>3</th>\n",
       "      <td>4/27/2021 11:02:41</td>\n",
       "      <td>25-34</td>\n",
       "      <td>Nonprofits</td>\n",
       "      <td>Program Manager</td>\n",
       "      <td>NaN</td>\n",
       "      <td>62,000</td>\n",
       "      <td>3000.0</td>\n",
       "      <td>USD</td>\n",
       "      <td>NaN</td>\n",
       "      <td>NaN</td>\n",
       "      <td>USA</td>\n",
       "      <td>Wisconsin</td>\n",
       "      <td>Milwaukee</td>\n",
       "      <td>8 - 10 years</td>\n",
       "      <td>5-7 years</td>\n",
       "      <td>College degree</td>\n",
       "      <td>Woman</td>\n",
       "      <td>White</td>\n",
       "    </tr>\n",
       "    <tr>\n",
       "      <th>4</th>\n",
       "      <td>4/27/2021 11:02:42</td>\n",
       "      <td>25-34</td>\n",
       "      <td>Accounting, Banking &amp; Finance</td>\n",
       "      <td>Accounting Manager</td>\n",
       "      <td>NaN</td>\n",
       "      <td>60,000</td>\n",
       "      <td>7000.0</td>\n",
       "      <td>USD</td>\n",
       "      <td>NaN</td>\n",
       "      <td>NaN</td>\n",
       "      <td>US</td>\n",
       "      <td>South Carolina</td>\n",
       "      <td>Greenville</td>\n",
       "      <td>8 - 10 years</td>\n",
       "      <td>5-7 years</td>\n",
       "      <td>College degree</td>\n",
       "      <td>Woman</td>\n",
       "      <td>White</td>\n",
       "    </tr>\n",
       "  </tbody>\n",
       "</table>\n",
       "</div>"
      ],
      "text/plain": [
       "            timestamp    age                       industry   \n",
       "0  4/27/2021 11:02:10  25-34   Education (Higher Education)  \\\n",
       "1  4/27/2021 11:02:22  25-34              Computing or Tech   \n",
       "2  4/27/2021 11:02:38  25-34  Accounting, Banking & Finance   \n",
       "3  4/27/2021 11:02:41  25-34                     Nonprofits   \n",
       "4  4/27/2021 11:02:42  25-34  Accounting, Banking & Finance   \n",
       "\n",
       "                                  job_title jt_add_context annual_salary   \n",
       "0        Research and Instruction Librarian            NaN        55,000  \\\n",
       "1  Change & Internal Communications Manager            NaN        54,600   \n",
       "2                      Marketing Specialist            NaN        34,000   \n",
       "3                           Program Manager            NaN        62,000   \n",
       "4                        Accounting Manager            NaN        60,000   \n",
       "\n",
       "   incentives currency other_currency income_add_context  workin_country   \n",
       "0         0.0      USD            NaN                NaN   United States  \\\n",
       "1      4000.0      GBP            NaN                NaN  United Kingdom   \n",
       "2         NaN      USD            NaN                NaN              US   \n",
       "3      3000.0      USD            NaN                NaN             USA   \n",
       "4      7000.0      USD            NaN                NaN              US   \n",
       "\n",
       "       ifUS_state  workin_city overall_workexp field_workexp   \n",
       "0   Massachusetts       Boston       5-7 years     5-7 years  \\\n",
       "1             NaN    Cambridge    8 - 10 years     5-7 years   \n",
       "2       Tennessee  Chattanooga     2 - 4 years   2 - 4 years   \n",
       "3       Wisconsin    Milwaukee    8 - 10 years     5-7 years   \n",
       "4  South Carolina   Greenville    8 - 10 years     5-7 years   \n",
       "\n",
       "  highest_education      gender   race  \n",
       "0   Master's degree       Woman  White  \n",
       "1    College degree  Non-binary  White  \n",
       "2    College degree       Woman  White  \n",
       "3    College degree       Woman  White  \n",
       "4    College degree       Woman  White  "
      ]
     },
     "execution_count": 8,
     "metadata": {},
     "output_type": "execute_result"
    }
   ],
   "source": [
    "# Overview of the data (first 5 rows)\n",
    "Survey_df.head()"
   ]
  },
  {
   "cell_type": "code",
   "execution_count": 9,
   "metadata": {
    "scrolled": false
   },
   "outputs": [
    {
     "name": "stdout",
     "output_type": "stream",
     "text": [
      "<class 'pandas.core.frame.DataFrame'>\n",
      "RangeIndex: 27844 entries, 0 to 27843\n",
      "Data columns (total 18 columns):\n",
      " #   Column              Non-Null Count  Dtype  \n",
      "---  ------              --------------  -----  \n",
      " 0   timestamp           27844 non-null  object \n",
      " 1   age                 27844 non-null  object \n",
      " 2   industry            27774 non-null  object \n",
      " 3   job_title           27844 non-null  object \n",
      " 4   jt_add_context      7202 non-null   object \n",
      " 5   annual_salary       27844 non-null  object \n",
      " 6   incentives          20632 non-null  float64\n",
      " 7   currency            27844 non-null  object \n",
      " 8   other_currency      188 non-null    object \n",
      " 9   income_add_context  3024 non-null   object \n",
      " 10  workin_country      27844 non-null  object \n",
      " 11  ifUS_state          22892 non-null  object \n",
      " 12  workin_city         27766 non-null  object \n",
      " 13  overall_workexp     27844 non-null  object \n",
      " 14  field_workexp       27844 non-null  object \n",
      " 15  highest_education   27634 non-null  object \n",
      " 16  gender              27679 non-null  object \n",
      " 17  race                27680 non-null  object \n",
      "dtypes: float64(1), object(17)\n",
      "memory usage: 3.8+ MB\n"
     ]
    }
   ],
   "source": [
    "# Overviewing data's information\n",
    "Survey_df.info()"
   ]
  },
  {
   "cell_type": "code",
   "execution_count": 10,
   "metadata": {},
   "outputs": [
    {
     "data": {
      "text/plain": [
       "timestamp                 0\n",
       "age                       0\n",
       "industry                 70\n",
       "job_title                 0\n",
       "jt_add_context        20642\n",
       "annual_salary             0\n",
       "incentives             7212\n",
       "currency                  0\n",
       "other_currency        27656\n",
       "income_add_context    24820\n",
       "workin_country            0\n",
       "ifUS_state             4952\n",
       "workin_city              78\n",
       "overall_workexp           0\n",
       "field_workexp             0\n",
       "highest_education       210\n",
       "gender                  165\n",
       "race                    164\n",
       "dtype: int64"
      ]
     },
     "execution_count": 10,
     "metadata": {},
     "output_type": "execute_result"
    }
   ],
   "source": [
    "# Discovering the number of missing values for each attribute\n",
    "np.sum(Survey_df.isna())"
   ]
  },
  {
   "cell_type": "code",
   "execution_count": 11,
   "metadata": {
    "scrolled": true
   },
   "outputs": [
    {
     "data": {
      "text/plain": [
       "0"
      ]
     },
     "execution_count": 11,
     "metadata": {},
     "output_type": "execute_result"
    }
   ],
   "source": [
    "# Checking for number of duplicate records\n",
    "np.sum(Survey_df.duplicated())\n",
    "\n",
    "# there is no duplicates"
   ]
  },
  {
   "cell_type": "markdown",
   "metadata": {},
   "source": [
    "## Fixing data types\n"
   ]
  },
  {
   "cell_type": "code",
   "execution_count": 12,
   "metadata": {},
   "outputs": [],
   "source": [
    "# Defining a dict. with attribute_name as keys, and new dtype as values\n",
    "Fixed_Dtypes = {'age': 'category', 'annual_salary': 'int64', 'overall_workexp': 'category',\n",
    "                'field_workexp': 'category', 'highest_education': 'category', 'gender': 'category'}"
   ]
  },
  {
   "cell_type": "code",
   "execution_count": 13,
   "metadata": {
    "scrolled": true
   },
   "outputs": [
    {
     "data": {
      "text/plain": [
       "0    55,000\n",
       "1    54,600\n",
       "2    34,000\n",
       "3    62,000\n",
       "4    60,000\n",
       "Name: annual_salary, dtype: object"
      ]
     },
     "execution_count": 13,
     "metadata": {},
     "output_type": "execute_result"
    }
   ],
   "source": [
    "# Overview of the annual salary attribute (first 5 rows)\n",
    "Survey_df['annual_salary'].head()"
   ]
  },
  {
   "cell_type": "code",
   "execution_count": 14,
   "metadata": {},
   "outputs": [
    {
     "data": {
      "text/plain": [
       "0    55000\n",
       "1    54600\n",
       "2    34000\n",
       "3    62000\n",
       "4    60000\n",
       "Name: annual_salary, dtype: object"
      ]
     },
     "execution_count": 14,
     "metadata": {},
     "output_type": "execute_result"
    }
   ],
   "source": [
    "# Replacing all commas in each annual salary value with nothing\n",
    "Survey_df['annual_salary'] = Survey_df['annual_salary'].str.replace(',', '')\n",
    "Survey_df['annual_salary'].head()"
   ]
  },
  {
   "cell_type": "code",
   "execution_count": 15,
   "metadata": {},
   "outputs": [],
   "source": [
    "# Casting the previously identified dict.\n",
    "Survey_df = Survey_df.astype(Fixed_Dtypes)"
   ]
  },
  {
   "cell_type": "code",
   "execution_count": 16,
   "metadata": {},
   "outputs": [
    {
     "name": "stdout",
     "output_type": "stream",
     "text": [
      "<class 'pandas.core.frame.DataFrame'>\n",
      "RangeIndex: 27844 entries, 0 to 27843\n",
      "Data columns (total 18 columns):\n",
      " #   Column              Non-Null Count  Dtype   \n",
      "---  ------              --------------  -----   \n",
      " 0   timestamp           27844 non-null  object  \n",
      " 1   age                 27844 non-null  category\n",
      " 2   industry            27774 non-null  object  \n",
      " 3   job_title           27844 non-null  object  \n",
      " 4   jt_add_context      7202 non-null   object  \n",
      " 5   annual_salary       27844 non-null  int64   \n",
      " 6   incentives          20632 non-null  float64 \n",
      " 7   currency            27844 non-null  object  \n",
      " 8   other_currency      188 non-null    object  \n",
      " 9   income_add_context  3024 non-null   object  \n",
      " 10  workin_country      27844 non-null  object  \n",
      " 11  ifUS_state          22892 non-null  object  \n",
      " 12  workin_city         27766 non-null  object  \n",
      " 13  overall_workexp     27844 non-null  category\n",
      " 14  field_workexp       27844 non-null  category\n",
      " 15  highest_education   27634 non-null  category\n",
      " 16  gender              27679 non-null  category\n",
      " 17  race                27680 non-null  object  \n",
      "dtypes: category(5), float64(1), int64(1), object(11)\n",
      "memory usage: 2.9+ MB\n"
     ]
    }
   ],
   "source": [
    "# Overviewing data's information\n",
    "Survey_df.info()"
   ]
  },
  {
   "cell_type": "code",
   "execution_count": 17,
   "metadata": {
    "scrolled": true
   },
   "outputs": [],
   "source": [
    "# Casting 'timestamp' into datetime64 data type\n",
    "Survey_df['timestamp'] = pd.to_datetime(Survey_df['timestamp'])"
   ]
  },
  {
   "cell_type": "code",
   "execution_count": 18,
   "metadata": {},
   "outputs": [
    {
     "name": "stdout",
     "output_type": "stream",
     "text": [
      "<class 'pandas.core.frame.DataFrame'>\n",
      "RangeIndex: 27844 entries, 0 to 27843\n",
      "Data columns (total 18 columns):\n",
      " #   Column              Non-Null Count  Dtype         \n",
      "---  ------              --------------  -----         \n",
      " 0   timestamp           27844 non-null  datetime64[ns]\n",
      " 1   age                 27844 non-null  category      \n",
      " 2   industry            27774 non-null  object        \n",
      " 3   job_title           27844 non-null  object        \n",
      " 4   jt_add_context      7202 non-null   object        \n",
      " 5   annual_salary       27844 non-null  int64         \n",
      " 6   incentives          20632 non-null  float64       \n",
      " 7   currency            27844 non-null  object        \n",
      " 8   other_currency      188 non-null    object        \n",
      " 9   income_add_context  3024 non-null   object        \n",
      " 10  workin_country      27844 non-null  object        \n",
      " 11  ifUS_state          22892 non-null  object        \n",
      " 12  workin_city         27766 non-null  object        \n",
      " 13  overall_workexp     27844 non-null  category      \n",
      " 14  field_workexp       27844 non-null  category      \n",
      " 15  highest_education   27634 non-null  category      \n",
      " 16  gender              27679 non-null  category      \n",
      " 17  race                27680 non-null  object        \n",
      "dtypes: category(5), datetime64[ns](1), float64(1), int64(1), object(10)\n",
      "memory usage: 2.9+ MB\n"
     ]
    }
   ],
   "source": [
    "# Lets check data info. again\n",
    "Survey_df.info()"
   ]
  },
  {
   "cell_type": "markdown",
   "metadata": {},
   "source": [
    "___________________________________________________________________________________________"
   ]
  },
  {
   "cell_type": "markdown",
   "metadata": {},
   "source": [
    "## missing values"
   ]
  },
  {
   "cell_type": "code",
   "execution_count": 19,
   "metadata": {
    "scrolled": true
   },
   "outputs": [
    {
     "data": {
      "text/html": [
       "<div>\n",
       "<style scoped>\n",
       "    .dataframe tbody tr th:only-of-type {\n",
       "        vertical-align: middle;\n",
       "    }\n",
       "\n",
       "    .dataframe tbody tr th {\n",
       "        vertical-align: top;\n",
       "    }\n",
       "\n",
       "    .dataframe thead th {\n",
       "        text-align: right;\n",
       "    }\n",
       "</style>\n",
       "<table border=\"1\" class=\"dataframe\">\n",
       "  <thead>\n",
       "    <tr style=\"text-align: right;\">\n",
       "      <th></th>\n",
       "      <th>timestamp</th>\n",
       "      <th>age</th>\n",
       "      <th>industry</th>\n",
       "      <th>job_title</th>\n",
       "      <th>jt_add_context</th>\n",
       "      <th>annual_salary</th>\n",
       "      <th>incentives</th>\n",
       "      <th>currency</th>\n",
       "      <th>other_currency</th>\n",
       "      <th>income_add_context</th>\n",
       "      <th>workin_country</th>\n",
       "      <th>ifUS_state</th>\n",
       "      <th>workin_city</th>\n",
       "      <th>overall_workexp</th>\n",
       "      <th>field_workexp</th>\n",
       "      <th>highest_education</th>\n",
       "      <th>gender</th>\n",
       "      <th>race</th>\n",
       "    </tr>\n",
       "  </thead>\n",
       "  <tbody>\n",
       "    <tr>\n",
       "      <th>360</th>\n",
       "      <td>2021-04-27 11:08:41</td>\n",
       "      <td>45-54</td>\n",
       "      <td>NaN</td>\n",
       "      <td>Proposal Manager</td>\n",
       "      <td>NaN</td>\n",
       "      <td>87938</td>\n",
       "      <td>4000.0</td>\n",
       "      <td>USD</td>\n",
       "      <td>NaN</td>\n",
       "      <td>NaN</td>\n",
       "      <td>US</td>\n",
       "      <td>North Carolina</td>\n",
       "      <td>Wilmington</td>\n",
       "      <td>21 - 30 years</td>\n",
       "      <td>11 - 20 years</td>\n",
       "      <td>College degree</td>\n",
       "      <td>Woman</td>\n",
       "      <td>White</td>\n",
       "    </tr>\n",
       "    <tr>\n",
       "      <th>645</th>\n",
       "      <td>2021-04-27 11:12:59</td>\n",
       "      <td>35-44</td>\n",
       "      <td>NaN</td>\n",
       "      <td>Legal editor</td>\n",
       "      <td>NaN</td>\n",
       "      <td>82000</td>\n",
       "      <td>8200.0</td>\n",
       "      <td>USD</td>\n",
       "      <td>NaN</td>\n",
       "      <td>NaN</td>\n",
       "      <td>USA</td>\n",
       "      <td>New York</td>\n",
       "      <td>Rochester</td>\n",
       "      <td>11 - 20 years</td>\n",
       "      <td>11 - 20 years</td>\n",
       "      <td>Master's degree</td>\n",
       "      <td>Woman</td>\n",
       "      <td>White</td>\n",
       "    </tr>\n",
       "    <tr>\n",
       "      <th>1604</th>\n",
       "      <td>2021-04-27 11:28:20</td>\n",
       "      <td>25-34</td>\n",
       "      <td>NaN</td>\n",
       "      <td>Commissioning Editor</td>\n",
       "      <td>NaN</td>\n",
       "      <td>36000</td>\n",
       "      <td>NaN</td>\n",
       "      <td>GBP</td>\n",
       "      <td>NaN</td>\n",
       "      <td>NaN</td>\n",
       "      <td>UK</td>\n",
       "      <td>NaN</td>\n",
       "      <td>London</td>\n",
       "      <td>11 - 20 years</td>\n",
       "      <td>8 - 10 years</td>\n",
       "      <td>Master's degree</td>\n",
       "      <td>Woman</td>\n",
       "      <td>Asian or Asian American, White</td>\n",
       "    </tr>\n",
       "    <tr>\n",
       "      <th>2055</th>\n",
       "      <td>2021-04-27 11:37:01</td>\n",
       "      <td>35-44</td>\n",
       "      <td>NaN</td>\n",
       "      <td>Research Manager</td>\n",
       "      <td>NaN</td>\n",
       "      <td>115000</td>\n",
       "      <td>NaN</td>\n",
       "      <td>USD</td>\n",
       "      <td>NaN</td>\n",
       "      <td>NaN</td>\n",
       "      <td>US</td>\n",
       "      <td>District of Columbia</td>\n",
       "      <td>DC</td>\n",
       "      <td>21 - 30 years</td>\n",
       "      <td>11 - 20 years</td>\n",
       "      <td>Master's degree</td>\n",
       "      <td>Woman</td>\n",
       "      <td>White</td>\n",
       "    </tr>\n",
       "    <tr>\n",
       "      <th>2063</th>\n",
       "      <td>2021-04-27 11:37:12</td>\n",
       "      <td>35-44</td>\n",
       "      <td>NaN</td>\n",
       "      <td>office manager</td>\n",
       "      <td>manage a building vs managing employees</td>\n",
       "      <td>40000</td>\n",
       "      <td>NaN</td>\n",
       "      <td>USD</td>\n",
       "      <td>NaN</td>\n",
       "      <td>NaN</td>\n",
       "      <td>USA</td>\n",
       "      <td>Nevada</td>\n",
       "      <td>Las Vegas</td>\n",
       "      <td>11 - 20 years</td>\n",
       "      <td>11 - 20 years</td>\n",
       "      <td>High School</td>\n",
       "      <td>Woman</td>\n",
       "      <td>White</td>\n",
       "    </tr>\n",
       "  </tbody>\n",
       "</table>\n",
       "</div>"
      ],
      "text/plain": [
       "               timestamp    age industry              job_title   \n",
       "360  2021-04-27 11:08:41  45-54      NaN       Proposal Manager  \\\n",
       "645  2021-04-27 11:12:59  35-44      NaN           Legal editor   \n",
       "1604 2021-04-27 11:28:20  25-34      NaN  Commissioning Editor    \n",
       "2055 2021-04-27 11:37:01  35-44      NaN       Research Manager   \n",
       "2063 2021-04-27 11:37:12  35-44      NaN         office manager   \n",
       "\n",
       "                               jt_add_context  annual_salary  incentives   \n",
       "360                                       NaN          87938      4000.0  \\\n",
       "645                                       NaN          82000      8200.0   \n",
       "1604                                      NaN          36000         NaN   \n",
       "2055                                      NaN         115000         NaN   \n",
       "2063  manage a building vs managing employees          40000         NaN   \n",
       "\n",
       "     currency other_currency income_add_context workin_country   \n",
       "360       USD            NaN                NaN             US  \\\n",
       "645       USD            NaN                NaN            USA   \n",
       "1604      GBP            NaN                NaN             UK   \n",
       "2055      USD            NaN                NaN             US   \n",
       "2063      USD            NaN                NaN            USA   \n",
       "\n",
       "                ifUS_state workin_city overall_workexp  field_workexp   \n",
       "360         North Carolina  Wilmington   21 - 30 years  11 - 20 years  \\\n",
       "645               New York   Rochester   11 - 20 years  11 - 20 years   \n",
       "1604                   NaN      London   11 - 20 years   8 - 10 years   \n",
       "2055  District of Columbia          DC   21 - 30 years  11 - 20 years   \n",
       "2063                Nevada   Las Vegas   11 - 20 years  11 - 20 years   \n",
       "\n",
       "     highest_education gender                            race  \n",
       "360     College degree  Woman                           White  \n",
       "645    Master's degree  Woman                           White  \n",
       "1604   Master's degree  Woman  Asian or Asian American, White  \n",
       "2055   Master's degree  Woman                           White  \n",
       "2063       High School  Woman                           White  "
      ]
     },
     "execution_count": 19,
     "metadata": {},
     "output_type": "execute_result"
    }
   ],
   "source": [
    "# Lets check industry rows with missing values\n",
    "Industry_null = Survey_df.loc[Survey_df['industry'].isna()]\n",
    "Industry_null.head()"
   ]
  },
  {
   "cell_type": "markdown",
   "metadata": {},
   "source": [
    "*Maybe if we impute the missing values according to associated job_title....*"
   ]
  },
  {
   "cell_type": "code",
   "execution_count": 20,
   "metadata": {},
   "outputs": [
    {
     "data": {
      "text/plain": [
       "array(['Proposal Manager', 'Legal editor', 'Commissioning Editor ',\n",
       "       'Research Manager', 'office manager', 'Research Analyst',\n",
       "       'Senior Regulatory Affairs Specialist', 'Adult Services Librarian',\n",
       "       'Program Manager ', 'GIS Analyst', 'Director of Compliance', 'EA',\n",
       "       'Research Scientist', 'Youth Services Librarian',\n",
       "       'Financial Analyst (part-qualified)', 'Executive Assistant II',\n",
       "       'Office Supervisor ', 'Chief of Staff, Customer Experience',\n",
       "       'Veterinarian ', 'Lab Assistant (Level II)',\n",
       "       'Customer Service Supervisor', 'Customer Service analyst ',\n",
       "       'Manager, strategy', 'People Operations Manager ',\n",
       "       'VP of Finance & Operations', 'Office manager ', 'UX Designer',\n",
       "       'Senior Manager of Ops Strategy', 'Credit Supervisor ',\n",
       "       'Operations Manager', 'hr manager', 'Director of HR',\n",
       "       'Accounting manager', 'HR Generalist II',\n",
       "       'Campaign and Program Manager ', 'Director',\n",
       "       'Marketing Coordinator', 'Vendor Manager',\n",
       "       'Real Estate Services Assistant', 'Translator', 'Business Analyst',\n",
       "       'Administrative Assistant', 'Technical specialist ',\n",
       "       'Order Management Analyst ', 'Auto liability representative 2',\n",
       "       'Inventory Specialist', 'Software engineer ',\n",
       "       'Government Statistician',\n",
       "       'Associate Director of Customer Service', 'QA manager',\n",
       "       'Account management0', 'Biologist 1', 'Chemist',\n",
       "       'Cybersecurity senior risk specialist ',\n",
       "       'Digital strategy manager', 'Early childhood teacher', 'Svp',\n",
       "       'supply Planner', 'Digital Marketing Specialist', 'IT Manager',\n",
       "       'People Operations Manager', 'Archivist',\n",
       "       'Data Analytics Engineer', 'Contract Administrator',\n",
       "       'Instructor/Operator', 'Technician Automation ',\n",
       "       'Associate professor', 'chief executive official'], dtype=object)"
      ]
     },
     "execution_count": 20,
     "metadata": {},
     "output_type": "execute_result"
    }
   ],
   "source": [
    "# Unique job title values for industry nulls\n",
    "Industry_null['job_title'].unique()"
   ]
  },
  {
   "cell_type": "code",
   "execution_count": 21,
   "metadata": {},
   "outputs": [
    {
     "data": {
      "text/plain": [
       "68"
      ]
     },
     "execution_count": 21,
     "metadata": {},
     "output_type": "execute_result"
    }
   ],
   "source": [
    "# No. of unique job title values for industry nulls\n",
    "Industry_null['job_title'].nunique()"
   ]
  },
  {
   "cell_type": "code",
   "execution_count": 22,
   "metadata": {},
   "outputs": [
    {
     "data": {
      "text/plain": [
       "14244"
      ]
     },
     "execution_count": 22,
     "metadata": {},
     "output_type": "execute_result"
    }
   ],
   "source": [
    "# No. of unique job title values for survey\n",
    "Survey_df['job_title'].nunique()"
   ]
  },
  {
   "cell_type": "code",
   "execution_count": 23,
   "metadata": {},
   "outputs": [
    {
     "data": {
      "text/plain": [
       "13316"
      ]
     },
     "execution_count": 23,
     "metadata": {},
     "output_type": "execute_result"
    }
   ],
   "source": [
    "# Removing whitespaces at the beginning and the end of each string\n",
    "Survey_df['job_title'] = Survey_df['job_title'].str.strip()\n",
    "Survey_df['job_title'].nunique()"
   ]
  },
  {
   "cell_type": "code",
   "execution_count": 24,
   "metadata": {},
   "outputs": [
    {
     "data": {
      "text/plain": [
       "12035"
      ]
     },
     "execution_count": 24,
     "metadata": {},
     "output_type": "execute_result"
    }
   ],
   "source": [
    "# Converting strings into lowercase\n",
    "Survey_df['job_title'] = Survey_df['job_title'].str.lower()\n",
    "Survey_df['job_title'].nunique()"
   ]
  },
  {
   "cell_type": "code",
   "execution_count": 25,
   "metadata": {},
   "outputs": [],
   "source": [
    "# Initializing a bag of stopwords\n",
    "stop = stopwords.words('english')\n",
    "\n",
    "# Method for excluding stopwords from an attribute\n",
    "def Exclude_Stopwords(attribute):\n",
    "    # using list comprehension\n",
    "    return attribute.apply(lambda x: ' '.join([word for word in x.split() if word not in (stop)]))"
   ]
  },
  {
   "cell_type": "code",
   "execution_count": 26,
   "metadata": {},
   "outputs": [],
   "source": [
    "# Initalize a lemmatizer\n",
    "wn_lemm = WordNetLemmatizer()\n",
    "\n",
    "# Method for lemmatizing an attriute\n",
    "def Lemmatization(attribute):\n",
    "    # using list comprehension\n",
    "    return attribute.apply(lambda word: wn_lemm.lemmatize(word))"
   ]
  },
  {
   "cell_type": "markdown",
   "metadata": {},
   "source": [
    "***"
   ]
  },
  {
   "cell_type": "code",
   "execution_count": 27,
   "metadata": {},
   "outputs": [
    {
     "data": {
      "text/plain": [
       "11870"
      ]
     },
     "execution_count": 27,
     "metadata": {},
     "output_type": "execute_result"
    }
   ],
   "source": [
    "# Excluding stopwords using Exclude_Stopwords method\n",
    "Survey_df['job_title'] = Exclude_Stopwords(Survey_df['job_title'])\n",
    "Survey_df['job_title'].nunique()"
   ]
  },
  {
   "cell_type": "code",
   "execution_count": 28,
   "metadata": {},
   "outputs": [
    {
     "data": {
      "text/plain": [
       "11867"
      ]
     },
     "execution_count": 28,
     "metadata": {},
     "output_type": "execute_result"
    }
   ],
   "source": [
    "# Lemmatizing values\n",
    "Survey_df['job_title'] = Lemmatization(Survey_df['job_title'])\n",
    "Survey_df['job_title'].nunique()"
   ]
  },
  {
   "cell_type": "code",
   "execution_count": 29,
   "metadata": {},
   "outputs": [
    {
     "data": {
      "text/plain": [
       "11867"
      ]
     },
     "execution_count": 29,
     "metadata": {},
     "output_type": "execute_result"
    }
   ],
   "source": [
    "# Removing all special characters, using regex\n",
    "Survey_df['job_title'] = Survey_df['job_title'].str.replace('[^\\w\\s]', '')\n",
    "Survey_df['job_title'].nunique()"
   ]
  },
  {
   "cell_type": "markdown",
   "metadata": {},
   "source": [
    "__________________________________________________________________________"
   ]
  },
  {
   "cell_type": "code",
   "execution_count": 30,
   "metadata": {},
   "outputs": [],
   "source": [
    "#fil industry nulls with not specified \n",
    "Survey_df['industry'].fillna(\"Not-Specified\", inplace = True)"
   ]
  },
  {
   "cell_type": "code",
   "execution_count": 31,
   "metadata": {},
   "outputs": [
    {
     "data": {
      "text/plain": [
       "1207"
      ]
     },
     "execution_count": 31,
     "metadata": {},
     "output_type": "execute_result"
    }
   ],
   "source": [
    "Survey_df['industry'].nunique()"
   ]
  },
  {
   "cell_type": "code",
   "execution_count": 32,
   "metadata": {},
   "outputs": [
    {
     "data": {
      "text/plain": [
       "988"
      ]
     },
     "execution_count": 32,
     "metadata": {},
     "output_type": "execute_result"
    }
   ],
   "source": [
    "# Removing whitespaces at the beginning and the end of each string\n",
    "Survey_df['industry'] = Survey_df['industry'].str.strip()\n",
    "\n",
    "# Converting strings into lowercase\n",
    "Survey_df['industry'] = Survey_df['industry'].str.lower()\n",
    "\n",
    "# Excluding stopwords using Exclude_Stopwords method\n",
    "Survey_df['industry'] = Exclude_Stopwords(Survey_df['industry'])\n",
    "\n",
    "# Lemmatizing values\n",
    "Survey_df['industry'] = Lemmatization(Survey_df['industry'])\n",
    "\n",
    "# Removing all special characters, using regex\n",
    "Survey_df['industry'] = Survey_df['industry'].str.replace('[^\\w\\s]', '')\n",
    "\n",
    "Survey_df['industry'].nunique()"
   ]
  },
  {
   "cell_type": "code",
   "execution_count": 33,
   "metadata": {},
   "outputs": [],
   "source": [
    "# Industry substrings to search for\n",
    "SubStrings = ['nonprofit', 'librar', 'biotech', 'academi', 'education', 'aerospace', 'pharma', 'food', 'archit',\n",
    "              'real estate', 'environment', 'vet', 'construction', 'sale', 'marketing', 'research', 'energy', 'gov']\n",
    "\n",
    "# Strings to be mapped to\n",
    "MaptoStrings = ['nonprofit', 'library', 'biotech', 'academia', 'education', 'aerospace', 'pharma', 'food services',\n",
    "                'architecture', 'real estate', 'environment', 'veterinary', 'construction', 'sales', 'marketing',\n",
    "                'research', 'energy', 'government']"
   ]
  },
  {
   "cell_type": "code",
   "execution_count": 34,
   "metadata": {},
   "outputs": [],
   "source": [
    "# Method to map all rows with specific substring in a certain column value with a new one\n",
    "def ReplaceColumnValue(df, column, SubStrings, MaptoStrings):\n",
    "    for (ss, sm) in zip(SubStrings, MaptoStrings):\n",
    "        # Filtering rows containing specific substring\n",
    "        contain_substring = df[df[column].str.contains(ss)]\n",
    "        # Replacing all rows certain column values with new one\n",
    "        df.loc[contain_substring.index, column] = sm"
   ]
  },
  {
   "cell_type": "code",
   "execution_count": 35,
   "metadata": {},
   "outputs": [
    {
     "data": {
      "text/plain": [
       "600"
      ]
     },
     "execution_count": 35,
     "metadata": {},
     "output_type": "execute_result"
    }
   ],
   "source": [
    "# Mapping old 'industry' values to new ones\n",
    "ReplaceColumnValue(Survey_df, 'industry', SubStrings, MaptoStrings)\n",
    "Survey_df['industry'].nunique()"
   ]
  },
  {
   "cell_type": "code",
   "execution_count": 36,
   "metadata": {},
   "outputs": [],
   "source": [
    "# Filling missing values in both columns with 'Not-Specified'\n",
    "Survey_df['jt_add_context'].fillna(\"Not-Specified\", inplace = True)\n",
    "Survey_df['income_add_context'].fillna(\"Not-Specified\", inplace = True)"
   ]
  },
  {
   "cell_type": "code",
   "execution_count": 37,
   "metadata": {},
   "outputs": [],
   "source": [
    "# Filling missing values with 0 (as it is float64)\n",
    "Survey_df['incentives'].fillna(0, inplace = True)"
   ]
  },
  {
   "cell_type": "code",
   "execution_count": 38,
   "metadata": {},
   "outputs": [
    {
     "data": {
      "text/plain": [
       "11"
      ]
     },
     "execution_count": 38,
     "metadata": {},
     "output_type": "execute_result"
    }
   ],
   "source": [
    "Survey_df['currency'].nunique()"
   ]
  },
  {
   "cell_type": "code",
   "execution_count": 39,
   "metadata": {},
   "outputs": [
    {
     "data": {
      "text/plain": [
       "112"
      ]
     },
     "execution_count": 39,
     "metadata": {},
     "output_type": "execute_result"
    }
   ],
   "source": [
    "Survey_df['other_currency'].nunique()"
   ]
  },
  {
   "cell_type": "code",
   "execution_count": 40,
   "metadata": {},
   "outputs": [],
   "source": [
    "# Removing whitespaces at the beginning and the end of each string, for both attributes\n",
    "Survey_df['currency'] = Survey_df['currency'].str.strip()\n",
    "Survey_df['other_currency'] = Survey_df['other_currency'].str.strip()\n",
    "\n",
    "# Converting strings into lowercase, for both attributes\n",
    "Survey_df['currency'] = Survey_df['currency'].str.lower()\n",
    "Survey_df['other_currency'] = Survey_df['other_currency'].str.lower()"
   ]
  },
  {
   "cell_type": "code",
   "execution_count": 41,
   "metadata": {},
   "outputs": [
    {
     "data": {
      "text/plain": [
       "False"
      ]
     },
     "execution_count": 41,
     "metadata": {},
     "output_type": "execute_result"
    }
   ],
   "source": [
    "# Dataframe with rows didn't choose 'other'\n",
    "No_Other = Survey_df.loc[Survey_df['currency'] != 'other']\n",
    "\n",
    "# Validating if number of rows = number of nulls\n",
    "len(No_Other.index) == np.sum(No_Other['other_currency'].isna())"
   ]
  },
  {
   "cell_type": "code",
   "execution_count": 42,
   "metadata": {},
   "outputs": [
    {
     "data": {
      "text/html": [
       "<div>\n",
       "<style scoped>\n",
       "    .dataframe tbody tr th:only-of-type {\n",
       "        vertical-align: middle;\n",
       "    }\n",
       "\n",
       "    .dataframe tbody tr th {\n",
       "        vertical-align: top;\n",
       "    }\n",
       "\n",
       "    .dataframe thead th {\n",
       "        text-align: right;\n",
       "    }\n",
       "</style>\n",
       "<table border=\"1\" class=\"dataframe\">\n",
       "  <thead>\n",
       "    <tr style=\"text-align: right;\">\n",
       "      <th></th>\n",
       "      <th>timestamp</th>\n",
       "      <th>age</th>\n",
       "      <th>industry</th>\n",
       "      <th>job_title</th>\n",
       "      <th>jt_add_context</th>\n",
       "      <th>annual_salary</th>\n",
       "      <th>incentives</th>\n",
       "      <th>currency</th>\n",
       "      <th>other_currency</th>\n",
       "      <th>income_add_context</th>\n",
       "      <th>workin_country</th>\n",
       "      <th>ifUS_state</th>\n",
       "      <th>workin_city</th>\n",
       "      <th>overall_workexp</th>\n",
       "      <th>field_workexp</th>\n",
       "      <th>highest_education</th>\n",
       "      <th>gender</th>\n",
       "      <th>race</th>\n",
       "    </tr>\n",
       "  </thead>\n",
       "  <tbody>\n",
       "    <tr>\n",
       "      <th>752</th>\n",
       "      <td>2021-04-27 11:14:29</td>\n",
       "      <td>45-54</td>\n",
       "      <td>library</td>\n",
       "      <td>administrative librarian</td>\n",
       "      <td>I run a branch library and am responsible for ...</td>\n",
       "      <td>76302</td>\n",
       "      <td>0.0</td>\n",
       "      <td>usd</td>\n",
       "      <td>$76,302.34</td>\n",
       "      <td>Not-Specified</td>\n",
       "      <td>USA</td>\n",
       "      <td>Arizona</td>\n",
       "      <td>Glendale</td>\n",
       "      <td>21 - 30 years</td>\n",
       "      <td>21 - 30 years</td>\n",
       "      <td>Master's degree</td>\n",
       "      <td>Woman</td>\n",
       "      <td>White</td>\n",
       "    </tr>\n",
       "    <tr>\n",
       "      <th>766</th>\n",
       "      <td>2021-04-27 11:14:39</td>\n",
       "      <td>25-34</td>\n",
       "      <td>recruitment hr</td>\n",
       "      <td>lead payroll &amp; benefits specialist</td>\n",
       "      <td>Not-Specified</td>\n",
       "      <td>64000</td>\n",
       "      <td>6400.0</td>\n",
       "      <td>usd</td>\n",
       "      <td>my bonus is based on performance up to 10% of ...</td>\n",
       "      <td>Not-Specified</td>\n",
       "      <td>US</td>\n",
       "      <td>New York</td>\n",
       "      <td>Schenectady</td>\n",
       "      <td>5-7 years</td>\n",
       "      <td>5-7 years</td>\n",
       "      <td>College degree</td>\n",
       "      <td>Woman</td>\n",
       "      <td>White</td>\n",
       "    </tr>\n",
       "    <tr>\n",
       "      <th>776</th>\n",
       "      <td>2021-04-27 11:14:45</td>\n",
       "      <td>45-54</td>\n",
       "      <td>education</td>\n",
       "      <td>sr technical support rep</td>\n",
       "      <td>I</td>\n",
       "      <td>53000</td>\n",
       "      <td>0.0</td>\n",
       "      <td>usd</td>\n",
       "      <td>i work for an online state university, managin...</td>\n",
       "      <td>I have excellent health benefits, time off, si...</td>\n",
       "      <td>USA</td>\n",
       "      <td>New Jersey</td>\n",
       "      <td>Trenton</td>\n",
       "      <td>8 - 10 years</td>\n",
       "      <td>2 - 4 years</td>\n",
       "      <td>Master's degree</td>\n",
       "      <td>Woman</td>\n",
       "      <td>White</td>\n",
       "    </tr>\n",
       "    <tr>\n",
       "      <th>1001</th>\n",
       "      <td>2021-04-27 11:18:27</td>\n",
       "      <td>35-44</td>\n",
       "      <td>recruitment hr</td>\n",
       "      <td>hr manager/accounts payable</td>\n",
       "      <td>Not-Specified</td>\n",
       "      <td>53500</td>\n",
       "      <td>0.0</td>\n",
       "      <td>usd</td>\n",
       "      <td>0</td>\n",
       "      <td>Not-Specified</td>\n",
       "      <td>US</td>\n",
       "      <td>Minnesota</td>\n",
       "      <td>Minneapolis</td>\n",
       "      <td>11 - 20 years</td>\n",
       "      <td>2 - 4 years</td>\n",
       "      <td>College degree</td>\n",
       "      <td>Woman</td>\n",
       "      <td>White</td>\n",
       "    </tr>\n",
       "    <tr>\n",
       "      <th>1915</th>\n",
       "      <td>2021-04-27 11:34:43</td>\n",
       "      <td>35-44</td>\n",
       "      <td>education</td>\n",
       "      <td>instructional coach</td>\n",
       "      <td>Not-Specified</td>\n",
       "      <td>13560</td>\n",
       "      <td>0.0</td>\n",
       "      <td>usd</td>\n",
       "      <td>kwd</td>\n",
       "      <td>International overseas hires also get flights ...</td>\n",
       "      <td>Kuwait</td>\n",
       "      <td>NaN</td>\n",
       "      <td>Hawalli</td>\n",
       "      <td>11 - 20 years</td>\n",
       "      <td>1 year or less</td>\n",
       "      <td>Master's degree</td>\n",
       "      <td>Woman</td>\n",
       "      <td>White</td>\n",
       "    </tr>\n",
       "  </tbody>\n",
       "</table>\n",
       "</div>"
      ],
      "text/plain": [
       "               timestamp    age        industry   \n",
       "752  2021-04-27 11:14:29  45-54         library  \\\n",
       "766  2021-04-27 11:14:39  25-34  recruitment hr   \n",
       "776  2021-04-27 11:14:45  45-54       education   \n",
       "1001 2021-04-27 11:18:27  35-44  recruitment hr   \n",
       "1915 2021-04-27 11:34:43  35-44       education   \n",
       "\n",
       "                               job_title   \n",
       "752             administrative librarian  \\\n",
       "766   lead payroll & benefits specialist   \n",
       "776             sr technical support rep   \n",
       "1001         hr manager/accounts payable   \n",
       "1915                 instructional coach   \n",
       "\n",
       "                                         jt_add_context  annual_salary   \n",
       "752   I run a branch library and am responsible for ...          76302  \\\n",
       "766                                       Not-Specified          64000   \n",
       "776                                                  I           53000   \n",
       "1001                                      Not-Specified          53500   \n",
       "1915                                      Not-Specified          13560   \n",
       "\n",
       "      incentives currency                                     other_currency   \n",
       "752          0.0      usd                                         $76,302.34  \\\n",
       "766       6400.0      usd  my bonus is based on performance up to 10% of ...   \n",
       "776          0.0      usd  i work for an online state university, managin...   \n",
       "1001         0.0      usd                                                  0   \n",
       "1915         0.0      usd                                                kwd   \n",
       "\n",
       "                                     income_add_context workin_country   \n",
       "752                                       Not-Specified            USA  \\\n",
       "766                                       Not-Specified             US   \n",
       "776   I have excellent health benefits, time off, si...            USA   \n",
       "1001                                      Not-Specified             US   \n",
       "1915  International overseas hires also get flights ...         Kuwait   \n",
       "\n",
       "      ifUS_state  workin_city overall_workexp   field_workexp   \n",
       "752      Arizona    Glendale    21 - 30 years   21 - 30 years  \\\n",
       "766     New York  Schenectady       5-7 years       5-7 years   \n",
       "776   New Jersey      Trenton    8 - 10 years     2 - 4 years   \n",
       "1001   Minnesota  Minneapolis   11 - 20 years     2 - 4 years   \n",
       "1915         NaN      Hawalli   11 - 20 years  1 year or less   \n",
       "\n",
       "     highest_education gender   race  \n",
       "752    Master's degree  Woman  White  \n",
       "766     College degree  Woman  White  \n",
       "776    Master's degree  Woman  White  \n",
       "1001    College degree  Woman  White  \n",
       "1915   Master's degree  Woman  White  "
      ]
     },
     "execution_count": 42,
     "metadata": {},
     "output_type": "execute_result"
    }
   ],
   "source": [
    "# Filtering no null responses\n",
    "No_Other.loc[No_Other['other_currency'].notnull()].head()"
   ]
  },
  {
   "cell_type": "markdown",
   "metadata": {},
   "source": [
    "*These are unrelated values, and should be fixed into null*"
   ]
  },
  {
   "cell_type": "code",
   "execution_count": 43,
   "metadata": {},
   "outputs": [
    {
     "data": {
      "text/plain": [
       "True"
      ]
     },
     "execution_count": 43,
     "metadata": {},
     "output_type": "execute_result"
    }
   ],
   "source": [
    "# Extracting not-null rows indices\n",
    "To_null_indices = No_Other.loc[No_Other['other_currency'].notnull()].index\n",
    "\n",
    "# Converting these values into NaN, in Survey_df\n",
    "for index in To_null_indices:\n",
    "    Survey_df['other_currency'][index] = np.nan\n",
    "\n",
    "# Validating one more time\n",
    "No_Other = Survey_df.loc[Survey_df['currency'] != 'other']\n",
    "len(No_Other.index) == np.sum(No_Other['other_currency'].isna())"
   ]
  },
  {
   "cell_type": "code",
   "execution_count": 44,
   "metadata": {},
   "outputs": [
    {
     "data": {
      "text/plain": [
       "70"
      ]
     },
     "execution_count": 44,
     "metadata": {},
     "output_type": "execute_result"
    }
   ],
   "source": [
    "# Dataframe with rows did choose 'other'\n",
    "Other = Survey_df.loc[Survey_df['currency'] == 'other']\n",
    "\n",
    "Other['other_currency'].nunique()"
   ]
  },
  {
   "cell_type": "code",
   "execution_count": 45,
   "metadata": {},
   "outputs": [],
   "source": [
    "# Currency code to be mapped to\n",
    "MapToCurr = ['ars', 'eur', 'usd', 'aud/nzd', 'brl', 'cny', 'dkk', 'czk', 'php',\n",
    "             'inr', 'krw', 'nok', 'mxn', 'pln', 'sgd', 'thb', 'myr', 'NaN']\n",
    "\n",
    "# List of keywords to be mapped to corresponding currency code\n",
    "ToBeMapped = [['argentin', 'ars'], ['eur', 'euro'], ['american', 'usd', 'us dollar'], ['australian', 'aud', 'nzd'],\n",
    "              ['brl', 'br$'], ['china', 'rmb', 'cny'], ['danish', 'dkk'], ['czech', 'czk'], ['philippine', 'php'],\n",
    "              ['indian', 'rupees', 'inr'], ['korean', 'krw'], ['norwegian', 'nok'], ['mexican', 'mxn'],\n",
    "              ['polish', 'zwoty', 'pln'], ['singapore', 'sgd'], ['taiwanese', 'thai', 'ntd', 'thb'], ['rm', 'myr'],\n",
    "              ['israeli', 'ils', 'nis']]"
   ]
  },
  {
   "cell_type": "code",
   "execution_count": 46,
   "metadata": {},
   "outputs": [],
   "source": [
    "# Method to map all rows with keyword in a certain column value with a new one\n",
    "def ReplaceColumnValue_II(df, column, ToBeMapped, MapToCurr):\n",
    "    for (ss, cm) in zip(ToBeMapped, MapToCurr):\n",
    "        # for each keyword in current list\n",
    "        for s in ss:\n",
    "            # Filtering rows containing specific substring\n",
    "            contain_substring = df[df[column].str.contains(s)]\n",
    "            # Replacing all rows certain column values with new one\n",
    "            df.loc[contain_substring.index, column] = cm"
   ]
  },
  {
   "cell_type": "code",
   "execution_count": 47,
   "metadata": {},
   "outputs": [],
   "source": [
    "# Temporary dataframe with no-null values\n",
    "temp_df = Survey_df.loc[Survey_df['other_currency'].notnull()]\n",
    "# Using ReplaceColumnValue_II method to map values\n",
    "ReplaceColumnValue_II(temp_df, 'other_currency', ToBeMapped, MapToCurr)"
   ]
  },
  {
   "cell_type": "code",
   "execution_count": 48,
   "metadata": {},
   "outputs": [
    {
     "data": {
      "text/plain": [
       "32"
      ]
     },
     "execution_count": 48,
     "metadata": {},
     "output_type": "execute_result"
    }
   ],
   "source": [
    "Survey_df['other_currency'] = temp_df['other_currency']\n",
    "Survey_df['other_currency'].nunique()"
   ]
  },
  {
   "cell_type": "code",
   "execution_count": 49,
   "metadata": {},
   "outputs": [],
   "source": [
    "# Filling na in order to correctly concat columns\n",
    "Survey_df['other_currency'].fillna('-', inplace = True)\n",
    "\n",
    "# Removing 'other' option\n",
    "Survey_df['currency'].replace('other', '-', inplace = True)"
   ]
  },
  {
   "cell_type": "code",
   "execution_count": 50,
   "metadata": {},
   "outputs": [],
   "source": [
    "# Concatenating both columns\n",
    "Survey_df['updated_currency'] = Survey_df['currency'] + Survey_df['other_currency']\n",
    "\n",
    "# Removing all hyphens\n",
    "Survey_df['updated_currency'] = Survey_df['updated_currency'].str.strip('-')\n",
    "\n",
    "# Dropping both columns\n",
    "Survey_df.drop(['currency', 'other_currency'], axis = 1, inplace = True)\n",
    "\n",
    "# Reordering dataframe column\n",
    "Survey_df = Survey_df[['timestamp', 'age', 'industry', 'job_title', 'jt_add_context', 'annual_salary', 'incentives',\n",
    "                       'updated_currency', 'income_add_context', 'workin_country', 'ifUS_state', 'workin_city', \n",
    "                       'overall_workexp', 'field_workexp', 'highest_education', 'gender', 'race']]\n",
    "\n",
    "# Currency code should be uppercase, why did I change to lower?\n",
    "Survey_df['updated_currency'] = Survey_df['updated_currency'].str.upper()"
   ]
  },
  {
   "cell_type": "code",
   "execution_count": 51,
   "metadata": {
    "scrolled": true
   },
   "outputs": [
    {
     "data": {
      "text/plain": [
       "array(['USD', 'GBP', 'CAD', 'EUR', 'AUD/NZD', 'INR', 'ARS', 'CHF', 'MYR',\n",
       "       'ZAR', 'SEK', 'HKD', 'NOK', 'BR$', 'DKK', 'TTD', 'BRL', 'MXN',\n",
       "       'CZK', 'BDT', 'PHP', 'PLN', 'TRY', 'CNY', 'NAN', '', 'JPY', 'SGD',\n",
       "       'KRW', 'THB', 'IDR', 'LKR', 'EQUITY', 'SAR', 'CROATIAN KUNA'],\n",
       "      dtype=object)"
      ]
     },
     "execution_count": 51,
     "metadata": {},
     "output_type": "execute_result"
    }
   ],
   "source": [
    "Survey_df['updated_currency'].unique()"
   ]
  },
  {
   "cell_type": "code",
   "execution_count": 52,
   "metadata": {},
   "outputs": [],
   "source": [
    "# Attribute bath-time (Strip, lower)\n",
    "Survey_df['workin_country'] = Survey_df['workin_country'].str.strip()\n",
    "Survey_df['workin_city'] = Survey_df['workin_city'].str.strip()\n",
    "\n",
    "Survey_df['workin_country'] = Survey_df['workin_country'].str.lower()\n",
    "Survey_df['workin_city'] = Survey_df['workin_city'].str.lower()"
   ]
  },
  {
   "cell_type": "code",
   "execution_count": 53,
   "metadata": {},
   "outputs": [
    {
     "data": {
      "text/plain": [
       "array(['united states', 'united kingdom', 'us', 'usa', 'canada', 'uk',\n",
       "       'scotland', 'u.s.', 'the netherlands', 'australia', 'spain',\n",
       "       'england', 'finland', 'united states of america', 'france',\n",
       "       'germany', 'ireland', 'india', 'u.s>', 'isa', 'argentina',\n",
       "       'great britain', 'united state', 'u.s.a', 'denmark', 'u.s.a.',\n",
       "       'america', 'netherlands', 'switzerland', 'bermuda',\n",
       "       'the united states', 'united state of america', 'malaysia',\n",
       "       'mexico', 'united stated', 'south africa', 'belgium',\n",
       "       'northern ireland', 'sweden', 'hong kong', 'kuwait', 'norway',\n",
       "       'sri lanka', 'contracts', 'usa-- virgin islands', 'united statws',\n",
       "       'england/uk', 'u.s',\n",
       "       \"we don't get raises, we get quarterly bonuses, but they periodically asses income in the area you work, so i got a raise because a 3rd party assessment showed i was paid too little for the area we were located\",\n",
       "       'unites states', 'england, uk.', 'greece', 'japan', 'u. s.',\n",
       "       'britain', 'united sates', 'austria', 'brazil',\n",
       "       'canada, ottawa, ontario', 'global', 'united states of american',\n",
       "       'uniited states', 'united kingdom (england)',\n",
       "       'worldwide (based in us but short term trips aroudn the world)',\n",
       "       'canadw', 'hungary', 'luxembourg', 'united sates of america',\n",
       "       'united states (i work from home and my clients are all over the us/canada/pr',\n",
       "       'colombia', 'unted states', 'united statesp', 'united stattes',\n",
       "       'united statea', 'united kingdom.', 'new zealand',\n",
       "       'trinidad and tobago', 'united statees', 'cayman islands', 'can',\n",
       "       'i am located in canada but i work for a company in the us',\n",
       "       'uniyed states', 'uniyes states', 'united states of americas',\n",
       "       'u.a.', 'czech republic', 'czechia', 'latvia', 'puerto rico',\n",
       "       'us of a', 'rwanda', 'united arab emirates', 'bangladesh', 'u.k.',\n",
       "       'romania', 'u.sa', 'united kindom', 'united status',\n",
       "       'currently finance', 'serbia', 'philippines', 'russia', 'poland',\n",
       "       'uxz', 'england, uk', 'turkey', 'canda', 'canada and usa',\n",
       "       'catalonia', '$2,175.84/year is deducted for benefits',\n",
       "       'italy (south)', 'jersey, channel islands', 'china', 'virginia',\n",
       "       'afghanistan', 'israel', 'uss', 'uniteed states',\n",
       "       'new zealand aotearoa', 'hartford', 'japan, us gov position',\n",
       "       'csnada', 'united stares', 'mainland china', 'i.s.',\n",
       "       'uk (northern ireland)', 'uk for u.s. company', 'nz', 'taiwan',\n",
       "       'canad', 'unite states', 'the us', 'cambodia', 'vietnam', 'remote',\n",
       "       'singapore', 'south korea', 'thailand', 'lithuania', 'eritrea',\n",
       "       'indonesia',\n",
       "       'for the united states government, but posted overseas', 'is',\n",
       "       'united kingdomk', 'italy', 'cuba', 'slovenia', 'australi',\n",
       "       \"cote d'ivoire\", 'from romania, but for an us based company',\n",
       "       'somalia', 'wales (united kingdom)', 'england, gb', 'unitedstates',\n",
       "       'danmark', 'u.k. (northern england)', 'u.k', 'nl', 'nederland',\n",
       "       'slovakia', 'portugal', 'england, united kingdom', 'sierra leone',\n",
       "       'englang', 'united statew', 'uae',\n",
       "       'bonus based on meeting yearly goals set w/ my supervisor',\n",
       "       'international', 'the bahamas', 'wales',\n",
       "       \"i earn commission on sales. if i meet quota, i'm guaranteed another 16k min. last year i earned an additional 27k. it's not uncommon for people in my space to earn 100k+ after commission.\",\n",
       "       'costa rica', 'united statues', 'untied states',\n",
       "       'usa (company is based in a us territory, i work remote)', 'chile',\n",
       "       'uk (england)', 'uk, remote', 'scotland, uk', 'usab',\n",
       "       'unitied states', 'qatar', 'united sttes', 'remote (philippines)',\n",
       "       'unites kingdom', 'nigeria', 'panamá',\n",
       "       'austria, but i work remotely for a dutch/british company',\n",
       "       \"i work for an us based company but i'm from argentina.\",\n",
       "       'i was brought in on this salary to help with the ehr and very quickly was promoted to current position but compensation was not altered.',\n",
       "       'uniter statez', 'u. s', 'congo', 'uruguay', 'pakistan', 'brasil',\n",
       "       'usa tomorrow', 'united stateds',\n",
       "       'n/a (remote from wherever i want)',\n",
       "       'us govt employee overseas, country withheld', 'uganda', 'malta',\n",
       "       'saudi arabia', 'bulgaria', 'estonia', 'morocco', 'africa',\n",
       "       'ecuador', 'zimbabwe', 'ghana', 'san francisco', 'usat', '🇺🇸',\n",
       "       'luxemburg', 'unitef stated', 'ua', 'wales, uk', 'croatia', 'usaa',\n",
       "       'ukraine', 'united states- puerto rico',\n",
       "       'from new zealand but on projects across apac', 'y', 'united y',\n",
       "       'wales (uk)', 'isle of man', 'northern ireland, united kingdom',\n",
       "       'europe', 'california',\n",
       "       'uk, but for globally fully remote company', 'australian',\n",
       "       'méxico', 'jamaica', 'usd', \"usa, but for foreign gov't\", 'kenya',\n",
       "       'jordan', 'united statss', 'argentina but my org is in thailand',\n",
       "       'i work for a uae-based organization, though i am personally in the us.',\n",
       "       'united  states', 'aotearoa new zealand', 'na', 'policy', 'cyprus',\n",
       "       'hong konh', 'united states is america', 'liechtenstein',\n",
       "       'company in germany. i work from pakistan.', 'canadá',\n",
       "       'bosnia and herzegovina'], dtype=object)"
      ]
     },
     "execution_count": 53,
     "metadata": {},
     "output_type": "execute_result"
    }
   ],
   "source": [
    "Survey_df['workin_country'].unique()"
   ]
  },
  {
   "cell_type": "code",
   "execution_count": 54,
   "metadata": {},
   "outputs": [
    {
     "data": {
      "text/plain": [
       "251"
      ]
     },
     "execution_count": 54,
     "metadata": {},
     "output_type": "execute_result"
    }
   ],
   "source": [
    "Survey_df['workin_country'].nunique()"
   ]
  },
  {
   "cell_type": "code",
   "execution_count": 55,
   "metadata": {},
   "outputs": [
    {
     "data": {
      "text/plain": [
       "243"
      ]
     },
     "execution_count": 55,
     "metadata": {},
     "output_type": "execute_result"
    }
   ],
   "source": [
    "Survey_df['workin_country'] = Exclude_Stopwords(Survey_df['workin_country'])\n",
    "Survey_df['workin_country'].nunique()"
   ]
  },
  {
   "cell_type": "code",
   "execution_count": 56,
   "metadata": {},
   "outputs": [],
   "source": [
    "# Countries to be mapped to\n",
    "MapToCountry = ['Remote', 'USA', 'UK', 'Canada', 'UAE', 'Australia', 'New Zealand', 'China',\n",
    "                'Brazil', 'Argentina', 'Germany', 'Spain', 'Italy', 'Japan', 'Czeck Republic',\n",
    "                'Luxembourg', 'Denmark', 'Netherlands', 'Mexico', 'Romania', 'Palestine']\n",
    "\n",
    "# List of keywords to be mapped to corresponding currency code\n",
    "ToBeMappedCountry = [['remote'], ['state', 'united s', 'usa', 'u.s', 'america', 'u. s.', 'us gov','isa', 'i.s.', 'usd', 'califo', 'virginia', 'contracts', 'policy', 'bonus', 'finance', 'year', 'salary'],\n",
    "                     ['uk', 'united k', 'u.k', 'britain', 'kingdom', 'englan', 'wales', 'scotland', 'ireland'], ['canad', 'canda', 'csnada'],\n",
    "                     ['emirates', 'united', 'uae',  'u.a.'], ['australi'], ['new z', 'nz'], ['china', 'hong'], ['brasil', 'brazil'],\n",
    "                     ['argentina'], ['germany'], ['spain', 'catalonia'], ['italy'], ['japan'], ['czech'], ['luxemb'],\n",
    "                     ['danmark', 'denmark'], ['netherlands', 'nederland', 'nl'], ['xico'], ['romania'], ['israel']]"
   ]
  },
  {
   "cell_type": "code",
   "execution_count": 57,
   "metadata": {},
   "outputs": [],
   "source": [
    "# Using ReplaceColumnValue_II method to map values\n",
    "ReplaceColumnValue_II(Survey_df, 'workin_country', ToBeMappedCountry, MapToCountry)\n",
    "# Replacing us with USA\n",
    "Survey_df['workin_country'].replace('us', 'USA', inplace = True)"
   ]
  },
  {
   "cell_type": "code",
   "execution_count": 58,
   "metadata": {},
   "outputs": [
    {
     "data": {
      "text/plain": [
       "98"
      ]
     },
     "execution_count": 58,
     "metadata": {},
     "output_type": "execute_result"
    }
   ],
   "source": [
    "# Capitalize first letter\n",
    "Survey_df['workin_country'] = Survey_df['workin_country'].str.capitalize()\n",
    "\n",
    "Survey_df['workin_country'].nunique()"
   ]
  },
  {
   "cell_type": "code",
   "execution_count": 59,
   "metadata": {},
   "outputs": [
    {
     "data": {
      "text/plain": [
       "array(['Usa', 'Uk', 'Canada', 'Netherlands', 'Australia', 'Spain',\n",
       "       'France', 'Germany', 'India', 'Argentina', 'Denmark',\n",
       "       'Switzerland', 'Bermuda', 'Malaysia', 'Mexico', 'South africa',\n",
       "       'Belgium', 'Sweden', 'China', 'Uae', 'Norway', 'Sri lanka',\n",
       "       'Greece', 'Japan', 'Austria', 'Brazil', 'Global', 'Hungary',\n",
       "       'Luxembourg', 'Colombia', 'New zealand', 'Trinidad tobago',\n",
       "       'Cayman islands', '', 'Czeck republic', 'Latvia', 'Puerto rico',\n",
       "       'Rwanda', 'Bangladesh', 'Romania', 'Serbia', 'Philippines',\n",
       "       'Poland', 'Uxz', 'Italy', 'Jersey, channel islands', 'Afghanistan',\n",
       "       'Palestine', 'Hartford', 'Taiwan', 'Cambodia', 'Vietnam', 'Remote',\n",
       "       'Singapore', 'South korea', 'Thailand', 'Lithuania', 'Eritrea',\n",
       "       'Indonesia', 'Cuba', 'Slovenia', \"Cote d'ivoire\", 'Somalia',\n",
       "       'Slovakia', 'Sierra leone', 'International', 'Bahamas',\n",
       "       'Costa rica', 'Chile', 'Qatar', 'Nigeria', 'Panamá', 'U.', 'Congo',\n",
       "       'Uruguay', 'Pakistan', 'Malta', 'Saudi arabia', 'Bulgaria',\n",
       "       'Estonia', 'Morocco', 'Africa', 'Ecuador', 'Zimbabwe', 'Ghana',\n",
       "       'San francisco', '🇺🇸', 'Ua', 'Croatia', 'Isle man', 'Europe',\n",
       "       'Jamaica', 'Kenya', 'Jordan', 'Na', 'Cyprus', 'Liechtenstein',\n",
       "       'Bosnia herzegovina'], dtype=object)"
      ]
     },
     "execution_count": 59,
     "metadata": {},
     "output_type": "execute_result"
    }
   ],
   "source": [
    "Survey_df['workin_country'].unique()"
   ]
  },
  {
   "cell_type": "code",
   "execution_count": 60,
   "metadata": {},
   "outputs": [
    {
     "data": {
      "text/plain": [
       "False"
      ]
     },
     "execution_count": 60,
     "metadata": {},
     "output_type": "execute_result"
    }
   ],
   "source": [
    "# Dataframe with respondants not working in th USA\n",
    "Not_USA = Survey_df.loc[Survey_df['workin_country'] != 'Usa']\n",
    "# Validating if number of rows = number of nulls\n",
    "len(Not_USA.index) == np.sum(No_Other['ifUS_state'].isna())"
   ]
  },
  {
   "cell_type": "code",
   "execution_count": 61,
   "metadata": {
    "scrolled": true
   },
   "outputs": [
    {
     "data": {
      "text/html": [
       "<div>\n",
       "<style scoped>\n",
       "    .dataframe tbody tr th:only-of-type {\n",
       "        vertical-align: middle;\n",
       "    }\n",
       "\n",
       "    .dataframe tbody tr th {\n",
       "        vertical-align: top;\n",
       "    }\n",
       "\n",
       "    .dataframe thead th {\n",
       "        text-align: right;\n",
       "    }\n",
       "</style>\n",
       "<table border=\"1\" class=\"dataframe\">\n",
       "  <thead>\n",
       "    <tr style=\"text-align: right;\">\n",
       "      <th></th>\n",
       "      <th>timestamp</th>\n",
       "      <th>age</th>\n",
       "      <th>industry</th>\n",
       "      <th>job_title</th>\n",
       "      <th>jt_add_context</th>\n",
       "      <th>annual_salary</th>\n",
       "      <th>incentives</th>\n",
       "      <th>updated_currency</th>\n",
       "      <th>income_add_context</th>\n",
       "      <th>workin_country</th>\n",
       "      <th>ifUS_state</th>\n",
       "      <th>workin_city</th>\n",
       "      <th>overall_workexp</th>\n",
       "      <th>field_workexp</th>\n",
       "      <th>highest_education</th>\n",
       "      <th>gender</th>\n",
       "      <th>race</th>\n",
       "    </tr>\n",
       "  </thead>\n",
       "  <tbody>\n",
       "    <tr>\n",
       "      <th>4739</th>\n",
       "      <td>2021-04-27 12:45:35</td>\n",
       "      <td>25-34</td>\n",
       "      <td>law</td>\n",
       "      <td>funding coordinator</td>\n",
       "      <td>I'm basically an Admin at a law firm. I answer...</td>\n",
       "      <td>40000</td>\n",
       "      <td>1000.0</td>\n",
       "      <td>USD</td>\n",
       "      <td>I began working for this firm in 2014. I left ...</td>\n",
       "      <td>Canada</td>\n",
       "      <td>California</td>\n",
       "      <td>company is in glendale, california i am in bar...</td>\n",
       "      <td>11 - 20 years</td>\n",
       "      <td>8 - 10 years</td>\n",
       "      <td>Master's degree</td>\n",
       "      <td>Woman</td>\n",
       "      <td>White</td>\n",
       "    </tr>\n",
       "    <tr>\n",
       "      <th>5017</th>\n",
       "      <td>2021-04-27 12:54:33</td>\n",
       "      <td>35-44</td>\n",
       "      <td>marketing</td>\n",
       "      <td>vice president, marketing</td>\n",
       "      <td>Not-Specified</td>\n",
       "      <td>198000</td>\n",
       "      <td>5000.0</td>\n",
       "      <td>USD</td>\n",
       "      <td>Not-Specified</td>\n",
       "      <td>Uae</td>\n",
       "      <td>California</td>\n",
       "      <td>irvine</td>\n",
       "      <td>21 - 30 years</td>\n",
       "      <td>21 - 30 years</td>\n",
       "      <td>College degree</td>\n",
       "      <td>Woman</td>\n",
       "      <td>White</td>\n",
       "    </tr>\n",
       "    <tr>\n",
       "      <th>7789</th>\n",
       "      <td>2021-04-27 15:12:59</td>\n",
       "      <td>25-34</td>\n",
       "      <td>government</td>\n",
       "      <td>business industry specialist</td>\n",
       "      <td>CFIUS Case Manager</td>\n",
       "      <td>103690</td>\n",
       "      <td>0.0</td>\n",
       "      <td>USD</td>\n",
       "      <td>Not-Specified</td>\n",
       "      <td>Uxz</td>\n",
       "      <td>District of Columbia</td>\n",
       "      <td>washington dc</td>\n",
       "      <td>5-7 years</td>\n",
       "      <td>2 - 4 years</td>\n",
       "      <td>Master's degree</td>\n",
       "      <td>Woman</td>\n",
       "      <td>White</td>\n",
       "    </tr>\n",
       "    <tr>\n",
       "      <th>9425</th>\n",
       "      <td>2021-04-27 17:54:24</td>\n",
       "      <td>45-54</td>\n",
       "      <td>hospitality &amp; events</td>\n",
       "      <td>event coordinator</td>\n",
       "      <td>Not-Specified</td>\n",
       "      <td>79612</td>\n",
       "      <td>0.0</td>\n",
       "      <td>CAD</td>\n",
       "      <td>Not-Specified</td>\n",
       "      <td>Canada</td>\n",
       "      <td>West Virginia</td>\n",
       "      <td>edmonton, alberta</td>\n",
       "      <td>21 - 30 years</td>\n",
       "      <td>21 - 30 years</td>\n",
       "      <td>College degree</td>\n",
       "      <td>Woman</td>\n",
       "      <td>White</td>\n",
       "    </tr>\n",
       "    <tr>\n",
       "      <th>9701</th>\n",
       "      <td>2021-04-27 18:38:27</td>\n",
       "      <td>35-44</td>\n",
       "      <td>government</td>\n",
       "      <td>staff development specialist</td>\n",
       "      <td>Not-Specified</td>\n",
       "      <td>91000</td>\n",
       "      <td>0.0</td>\n",
       "      <td>USD</td>\n",
       "      <td>Not-Specified</td>\n",
       "      <td>Hartford</td>\n",
       "      <td>Connecticut</td>\n",
       "      <td>hartford</td>\n",
       "      <td>11 - 20 years</td>\n",
       "      <td>2 - 4 years</td>\n",
       "      <td>Master's degree</td>\n",
       "      <td>Woman</td>\n",
       "      <td>White</td>\n",
       "    </tr>\n",
       "  </tbody>\n",
       "</table>\n",
       "</div>"
      ],
      "text/plain": [
       "               timestamp    age              industry   \n",
       "4739 2021-04-27 12:45:35  25-34                   law  \\\n",
       "5017 2021-04-27 12:54:33  35-44             marketing   \n",
       "7789 2021-04-27 15:12:59  25-34            government   \n",
       "9425 2021-04-27 17:54:24  45-54  hospitality & events   \n",
       "9701 2021-04-27 18:38:27  35-44            government   \n",
       "\n",
       "                         job_title   \n",
       "4739           funding coordinator  \\\n",
       "5017     vice president, marketing   \n",
       "7789  business industry specialist   \n",
       "9425             event coordinator   \n",
       "9701  staff development specialist   \n",
       "\n",
       "                                         jt_add_context  annual_salary   \n",
       "4739  I'm basically an Admin at a law firm. I answer...          40000  \\\n",
       "5017                                      Not-Specified         198000   \n",
       "7789                                 CFIUS Case Manager         103690   \n",
       "9425                                      Not-Specified          79612   \n",
       "9701                                      Not-Specified          91000   \n",
       "\n",
       "      incentives updated_currency   \n",
       "4739      1000.0              USD  \\\n",
       "5017      5000.0              USD   \n",
       "7789         0.0              USD   \n",
       "9425         0.0              CAD   \n",
       "9701         0.0              USD   \n",
       "\n",
       "                                     income_add_context workin_country   \n",
       "4739  I began working for this firm in 2014. I left ...         Canada  \\\n",
       "5017                                      Not-Specified            Uae   \n",
       "7789                                      Not-Specified            Uxz   \n",
       "9425                                      Not-Specified         Canada   \n",
       "9701                                      Not-Specified       Hartford   \n",
       "\n",
       "                ifUS_state                                        workin_city   \n",
       "4739            California  company is in glendale, california i am in bar...  \\\n",
       "5017            California                                             irvine   \n",
       "7789  District of Columbia                                      washington dc   \n",
       "9425         West Virginia                                  edmonton, alberta   \n",
       "9701           Connecticut                                           hartford   \n",
       "\n",
       "     overall_workexp  field_workexp highest_education gender   race  \n",
       "4739   11 - 20 years   8 - 10 years   Master's degree  Woman  White  \n",
       "5017   21 - 30 years  21 - 30 years    College degree  Woman  White  \n",
       "7789       5-7 years    2 - 4 years   Master's degree  Woman  White  \n",
       "9425   21 - 30 years  21 - 30 years    College degree  Woman  White  \n",
       "9701   11 - 20 years    2 - 4 years   Master's degree  Woman  White  "
      ]
     },
     "execution_count": 61,
     "metadata": {},
     "output_type": "execute_result"
    }
   ],
   "source": [
    "# Filtering no-null answers\n",
    "Not_USA.loc[Not_USA['ifUS_state'].notnull()].head()"
   ]
  },
  {
   "cell_type": "code",
   "execution_count": 62,
   "metadata": {},
   "outputs": [],
   "source": [
    "# Extracting not-null rows indices\n",
    "To_null_indices = Not_USA.loc[Not_USA['ifUS_state'].notnull()].index\n",
    "\n",
    "# Converting these values into NaN, in Survey_df\n",
    "for index in To_null_indices:\n",
    "    Survey_df['ifUS_state'][index] = np.nan"
   ]
  },
  {
   "cell_type": "code",
   "execution_count": 63,
   "metadata": {},
   "outputs": [
    {
     "data": {
      "text/plain": [
       "False"
      ]
     },
     "execution_count": 63,
     "metadata": {},
     "output_type": "execute_result"
    }
   ],
   "source": [
    "# Validating one more time\n",
    "Not_USA = Survey_df.loc[Survey_df['workin_country'] != 'Usa']\n",
    "len(Not_USA.index) == np.sum(Survey_df['ifUS_state'].isna())"
   ]
  },
  {
   "cell_type": "code",
   "execution_count": 64,
   "metadata": {},
   "outputs": [
    {
     "data": {
      "text/plain": [
       "True"
      ]
     },
     "execution_count": 64,
     "metadata": {},
     "output_type": "execute_result"
    }
   ],
   "source": [
    "# Comparing No. of respondants that work outside USA with no. of nulls for them in 'ifUS_state'\n",
    "# To confirm that other nulls exist for respondants working in USA\n",
    "len(Not_USA.index) == np.sum(Not_USA['ifUS_state'].isna())"
   ]
  },
  {
   "cell_type": "code",
   "execution_count": 65,
   "metadata": {},
   "outputs": [
    {
     "data": {
      "text/plain": [
       "177"
      ]
     },
     "execution_count": 65,
     "metadata": {},
     "output_type": "execute_result"
    }
   ],
   "source": [
    "# Dataframe with respondants working in USA\n",
    "In_USA = Survey_df.loc[Survey_df['workin_country'] == 'Usa']\n",
    "# Checking no. of nulls in 'ifUS_state'\n",
    "np.sum(In_USA['ifUS_state'].isna())"
   ]
  },
  {
   "cell_type": "code",
   "execution_count": 66,
   "metadata": {},
   "outputs": [],
   "source": [
    "# Filling null responses\n",
    "Survey_df['ifUS_state'].fillna('Not-in-Usa', inplace = True)"
   ]
  },
  {
   "cell_type": "code",
   "execution_count": 67,
   "metadata": {},
   "outputs": [],
   "source": [
    "# Filling null responses\n",
    "Survey_df['workin_city'].fillna('Not-Specified', inplace = True)"
   ]
  },
  {
   "cell_type": "code",
   "execution_count": 68,
   "metadata": {},
   "outputs": [],
   "source": [
    "# Adding 'Not-Specified' category to categorical variable\n",
    "Survey_df['highest_education'] = Survey_df['highest_education'].cat.add_categories('Not-Specifed')\n",
    "\n",
    "# Filling null responses\n",
    "Survey_df['highest_education'].fillna(Survey_df['highest_education'].cat.categories[6], inplace = True)"
   ]
  },
  {
   "cell_type": "code",
   "execution_count": 69,
   "metadata": {},
   "outputs": [],
   "source": [
    "# Dropping (removing) 'race' attribute\n",
    "Survey_df.drop('race', inplace=True, axis=1)"
   ]
  },
  {
   "cell_type": "code",
   "execution_count": 70,
   "metadata": {},
   "outputs": [
    {
     "data": {
      "text/plain": [
       "Index(['Man', 'Non-binary', 'Other or prefer not to answer',\n",
       "       'Prefer not to answer', 'Woman', 'Not-Specifed'],\n",
       "      dtype='object')"
      ]
     },
     "execution_count": 70,
     "metadata": {},
     "output_type": "execute_result"
    }
   ],
   "source": [
    "# Adding 'Not-specifed' category to categorical variable\n",
    "Survey_df['gender'] = Survey_df['gender'].cat.add_categories('Not-Specifed')\n",
    "# Gender Categories\n",
    "Gender_Cat = Survey_df['gender'].cat.categories\n",
    "Gender_Cat"
   ]
  },
  {
   "cell_type": "code",
   "execution_count": 71,
   "metadata": {},
   "outputs": [],
   "source": [
    "# Fixing 'gender' attribute\n",
    "Survey_df['gender'].replace([Gender_Cat[1], Gender_Cat[2], Gender_Cat[3]], Gender_Cat[5], inplace = True)\n",
    "Survey_df['gender'].fillna(Gender_Cat[5], inplace = True)"
   ]
  },
  {
   "cell_type": "code",
   "execution_count": 72,
   "metadata": {},
   "outputs": [
    {
     "data": {
      "text/plain": [
       "timestamp             0\n",
       "age                   0\n",
       "industry              0\n",
       "job_title             0\n",
       "jt_add_context        0\n",
       "annual_salary         0\n",
       "incentives            0\n",
       "updated_currency      0\n",
       "income_add_context    0\n",
       "workin_country        0\n",
       "ifUS_state            0\n",
       "workin_city           0\n",
       "overall_workexp       0\n",
       "field_workexp         0\n",
       "highest_education     0\n",
       "gender                0\n",
       "dtype: int64"
      ]
     },
     "execution_count": 72,
     "metadata": {},
     "output_type": "execute_result"
    }
   ],
   "source": [
    "np.sum(Survey_df.isna())"
   ]
  },
  {
   "cell_type": "markdown",
   "metadata": {},
   "source": [
    "<hr style=\"border:1px solid gray\"></hr>"
   ]
  },
  {
   "cell_type": "code",
   "execution_count": 73,
   "metadata": {},
   "outputs": [],
   "source": [
    "# Save our clean data \n",
    "Survey_df.to_csv('Cleaned_Survey.csv')"
   ]
  }
 ],
 "metadata": {
  "kernelspec": {
   "display_name": "Python 3 (ipykernel)",
   "language": "python",
   "name": "python3"
  },
  "language_info": {
   "codemirror_mode": {
    "name": "ipython",
    "version": 3
   },
   "file_extension": ".py",
   "mimetype": "text/x-python",
   "name": "python",
   "nbconvert_exporter": "python",
   "pygments_lexer": "ipython3",
   "version": "3.10.11"
  }
 },
 "nbformat": 4,
 "nbformat_minor": 4
}
